{
 "cells": [
  {
   "cell_type": "markdown",
   "id": "a7773dbc-47f3-49be-bca7-38ba6fbd0293",
   "metadata": {},
   "source": [
    "# 🔴 Python Problem Solving Series\n",
    "### फक्त मराठी विद्यार्थ्यांसाठी | By Payal Dahe\n",
    "\n",
    "---\n",
    "\n",
    "## 👩‍💻 About the Series\n",
    "\n",
    "🎯 This is a **beginner-friendly** Python coding series \n",
    "\n",
    "🧠 We will solve **real-life inspired coding problems** using:\n",
    "- Basic Python\n",
    "- Loops, Conditions, Lists, Strings, Functions\n",
    "- Marathi + English explanations for easy understanding\n",
    "\n",
    "---\n",
    "\n",
    "## 📌 Why This Series?\n",
    "\n",
    "➡️ Majority of content online is in English — making it tough for some beginners  \n",
    "➡️ Aim: **To make coding easy and confident — आपल्या भाषेत!**  \n",
    "➡️ Every session = 1 practical problem with explanation and live coding\n",
    "\n",
    "---\n",
    "📌 Live रोज | 🔴 Beginner Friendly | 💬 तुमचे प्रश्न Live मध्ये विचारा!\n",
    "\n",
    "➤ Subscribe करा आणि Coding प्रवासाला सुरुवात करा – आपल्या भाषेत!\n",
    "\n",
    "---\n",
    "## 💡 Let's begin our coding journey together... **in Marathi!** 🇮🇳\n",
    "\n"
   ]
  },
  {
   "cell_type": "code",
   "execution_count": null,
   "id": "9f88e966-0455-4dc9-bd4d-54b9d6a347fe",
   "metadata": {},
   "outputs": [],
   "source": [
    "Payal- Technical- Innovation-> PayalTechnova"
   ]
  },
  {
   "cell_type": "markdown",
   "id": "a62021a2-8f8d-4b20-b17a-43342bb4f8bd",
   "metadata": {},
   "source": [
    "# 🎯 What Will You Learn?\n",
    "\n",
    "In this Python Problem Solving Series, you will learn:\n",
    "\n",
    "---\n",
    "\n",
    "### 🔹 Real-World Problem Solving\n",
    "- रोजच्या आयुष्यातील उदाहरणं वापरून प्रॉब्लेम्स\n",
    "- Daily life utilities like: calculator, ATM, billing, etc.\n",
    "\n",
    "---\n",
    "\n",
    "### 🔹 Logic Building & Interview Prep\n",
    "- Step-by-step code thinking\n",
    "- How to break down problems\n",
    "- Practice for coding interviews and job prep\n",
    "\n",
    "---\n",
    "\n",
    "### ✅ Language: **Marathi + English**\n",
    "### 📅 Frequency: **Daily/Weekly Live Sessions**\n"
   ]
  },
  {
   "cell_type": "markdown",
   "id": "8716b8fd-2e3c-4bcc-ba6e-993b8b7564b1",
   "metadata": {},
   "source": [
    "#  Problem 1:  check the weather condition\n",
    "\n",
    "Write a Python program to check the weather condition based on the temperature value entered by the user.\n",
    "\n",
    "If the temperature is greater than or equal to 30°C, print \"It's a Hot Day!\"\n",
    "\n",
    "If the temperature is between 20°C and 29°C, print \"It's a Pleasant Day!\"\n",
    "\n",
    "If the temperature is less than 20°C, print \"It's a Cold Day!\"\n",
    "\n",
    "🔹 Input Format: **Enter temperature in °C: 28**\n",
    "\n",
    "🔹 Output Format: **It's a Pleasant Day!**"
   ]
  },
  {
   "cell_type": "markdown",
   "id": "d88aad83-d03c-499b-b8a7-1ec0a282d0b7",
   "metadata": {},
   "source": [
    "----\n",
    "**Topic**\n",
    "**if else** :- Its checks tge condition if condition is true then if block will be excuted\n",
    "\n",
    "Syntax:- \n",
    "if(condi): #True or False\n",
    "   \n",
    "   #Block\n",
    "\n",
    "else:\n",
    "\n",
    "  #Block\n",
    "---\n",
    "**Elif**\n",
    "when we have 2 or more condition that time we will use elif statement\n",
    "\n",
    "Syntax\n",
    "if(condition): \n",
    "   #Block1\n",
    "elif(cond2):\n",
    "   #Block2\n",
    "else:\n",
    "   #Block3\n",
    "---\n",
    "input()- When we want to pass input as a user that time we can use input() \n",
    "   \n"
   ]
  },
  {
   "cell_type": "code",
   "execution_count": 1,
   "id": "7a28640a-75c5-4b1a-ae58-707c1fcaef60",
   "metadata": {},
   "outputs": [
    {
     "name": "stdin",
     "output_type": "stream",
     "text": [
      "Enter temperature in °C: 28\n"
     ]
    },
    {
     "name": "stdout",
     "output_type": "stream",
     "text": [
      "It's a Pleasant Day!\n"
     ]
    }
   ],
   "source": [
    "temp=int(input(\"Enter temperature in °C:\"))\n",
    "if(temp >= 30):\n",
    "    print(\"It's a Hot Day!\")\n",
    "elif (temp>=20 and temp <=29): \n",
    "    print(\"It's a Pleasant Day!\")\n",
    "else:\n",
    "    print(\"It's a Cold Day!\")\n",
    "    \n"
   ]
  },
  {
   "cell_type": "markdown",
   "id": "4660fda0-055c-442b-9b51-ea8adae2936b",
   "metadata": {},
   "source": [
    "# 🔢 Problem 2: Even or Odd Number\n",
    "\n",
    "### Problem Statement:\n",
    "Write a Python program that checks whether a number is even or odd.\n",
    "\n",
    "### Input:\n",
    "11\n",
    "\n",
    "### Output:\n",
    "Odd Number\n"
   ]
  },
  {
   "cell_type": "code",
   "execution_count": null,
   "id": "221ccfd8-4c26-488b-96bc-4d655fa32efc",
   "metadata": {},
   "outputs": [],
   "source": [
    "1,2,6,8,5,9,3-\n",
    "odd=1,9,3\n",
    "even-2,6,8,\n",
    "3%2==1\n",
    "1%2==1\n",
    "9%2==1\n",
    "0dd\n",
    "2%2==0\n",
    "6%2==0\n",
    "8%2==0\n",
    "even"
   ]
  },
  {
   "cell_type": "code",
   "execution_count": 4,
   "id": "9dc98356-a0a0-4edd-8ea1-f53241578f25",
   "metadata": {},
   "outputs": [
    {
     "name": "stdin",
     "output_type": "stream",
     "text": [
      "Enter a number 3\n"
     ]
    },
    {
     "name": "stdout",
     "output_type": "stream",
     "text": [
      "3 is Odd Number\n"
     ]
    }
   ],
   "source": [
    "num=int(input(\"Enter a number\"))\n",
    "if(num % 2==0):\n",
    " print(num,\"is Even Number\")\n",
    "else:\n",
    " print(num,\"is Odd Number\")   "
   ]
  },
  {
   "cell_type": "markdown",
   "id": "49b75425-6e2d-4052-b75b-f738f7dde498",
   "metadata": {},
   "source": [
    "# 🎟️ Problem 3: Age-Based Ticket Pricing\n",
    "\n",
    "### Problem Statement:\n",
    "Write a program to calculate ticket price based on age:\n",
    "\n",
    "- Age < 5 → Free\n",
    "- Age 5–18 → ₹10\n",
    "- Age > 18 → ₹20\n",
    "\n",
    "### Input:\n",
    "4\n",
    "\n",
    "### Output:\n",
    "Free\n"
   ]
  },
  {
   "cell_type": "code",
   "execution_count": 7,
   "id": "393ac8b8-7c6c-49fb-89f0-65fd76fff06d",
   "metadata": {},
   "outputs": [
    {
     "name": "stdin",
     "output_type": "stream",
     "text": [
      "Enter age: 78\n"
     ]
    },
    {
     "name": "stdout",
     "output_type": "stream",
     "text": [
      "₹20\n"
     ]
    }
   ],
   "source": [
    "age=int(input(\"Enter age:\"))\n",
    "if(age<5):\n",
    "    print(\"Free\")\n",
    "elif(age>=5 and age<=18):\n",
    "    print(\"₹10\")\n",
    "else:\n",
    "    print(\"₹20\")"
   ]
  },
  {
   "cell_type": "markdown",
   "id": "5e8a2496-5a2c-4339-9c66-512392b8e78f",
   "metadata": {},
   "source": [
    "# 📝 Problem 4: Grade Calculator\n",
    "\n",
    "### Problem Statement:\n",
    "Write a Python program to calculate grades from marks:\n",
    "\n",
    "- Marks ≥ 90 → Grade A\n",
    "- Marks 70–89 → Grade B\n",
    "- Marks 50–69 → Grade C\n",
    "- Marks < 50 → Fail\n",
    "\n",
    "### Input:\n",
    "An integer (0–100)\n",
    "\n",
    "### Output:\n",
    "Grade based on the marks\n"
   ]
  },
  {
   "cell_type": "code",
   "execution_count": 9,
   "id": "b371b15c-3020-40e9-a483-46e26a7e9024",
   "metadata": {},
   "outputs": [
    {
     "name": "stdin",
     "output_type": "stream",
     "text": [
      "Enter your Marks 89\n"
     ]
    },
    {
     "name": "stdout",
     "output_type": "stream",
     "text": [
      "Grade B\n"
     ]
    }
   ],
   "source": [
    "marks=float(input(\"Enter your Marks\"))\n",
    "if(marks>=90 and  marks<=100):\n",
    "    print(\"Grade A\")\n",
    "elif(marks>70 and  marks<90):\n",
    "    print(\"Grade B\")   \n",
    "elif(marks>50 and  marks<70):\n",
    "    print(\"Grade C\")  \n",
    "else:\n",
    "    print(\"Fail\")"
   ]
  },
  {
   "cell_type": "code",
   "execution_count": null,
   "id": "2f038524-1f8d-4696-99c4-45bc6d733b5f",
   "metadata": {},
   "outputs": [],
   "source": []
  }
 ],
 "metadata": {
  "kernelspec": {
   "display_name": "Python [conda env:base] *",
   "language": "python",
   "name": "conda-base-py"
  },
  "language_info": {
   "codemirror_mode": {
    "name": "ipython",
    "version": 3
   },
   "file_extension": ".py",
   "mimetype": "text/x-python",
   "name": "python",
   "nbconvert_exporter": "python",
   "pygments_lexer": "ipython3",
   "version": "3.11.5"
  }
 },
 "nbformat": 4,
 "nbformat_minor": 5
}
